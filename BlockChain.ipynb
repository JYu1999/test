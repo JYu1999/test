{
  "nbformat": 4,
  "nbformat_minor": 0,
  "metadata": {
    "colab": {
      "provenance": [],
      "toc_visible": true,
      "authorship_tag": "ABX9TyMMY0dumaAjUQ9v8xMtr3nQ",
      "include_colab_link": true
    },
    "kernelspec": {
      "name": "python3",
      "display_name": "Python 3"
    },
    "language_info": {
      "name": "python"
    }
  },
  "cells": [
    {
      "cell_type": "markdown",
      "metadata": {
        "id": "view-in-github",
        "colab_type": "text"
      },
      "source": [
        "<a href=\"https://colab.research.google.com/github/JYu1999/test/blob/master/BlockChain.ipynb\" target=\"_parent\"><img src=\"https://colab.research.google.com/assets/colab-badge.svg\" alt=\"Open In Colab\"/></a>"
      ]
    },
    {
      "cell_type": "markdown",
      "source": [
        "# 交易明細(Transaction) \n",
        "* 作為憑證或核對用\n",
        "## Transaction底下的資料\n",
        "* 發送方(sender)\n",
        "* 收款方(receiver)\n",
        "* 金額大小(amounts) \n",
        "* 手續費(fee)\n",
        "* 訊息(message)\n",
        "\n",
        "# Block of transactions\n",
        "\n",
        "* 前個區塊的雜湊值(previous_hash) • 這個區塊的雜湊值(hash)\n",
        "* nonce\n",
        "* 當前難度(difficulty)\n",
        "* 該區塊產生時的時間(timestamp)\n",
        "* 交易紀錄(transactions)\n",
        "* 挖掘礦工(miner)\n",
        "* 礦工獎勵(miner_rewards)\n",
        " "
      ],
      "metadata": {
        "id": "5izoyRZGFAsO"
      }
    },
    {
      "cell_type": "code",
      "execution_count": 3,
      "metadata": {
        "id": "Ei7kdbWVErYi"
      },
      "outputs": [],
      "source": [
        "import time\n",
        "\n",
        "\n",
        "class Transaction:\n",
        "    def __init__(self, sender, receiver, amounts, fee, message):\n",
        "        self.sender = sender\n",
        "        self.receiver = receiver\n",
        "        self.amounts = amounts\n",
        "        self.fee = fee\n",
        "        self.message = message\n",
        "\n",
        "class Block:\n",
        "    def __init__(self, previous_hash, difficulty, miner, miner_rewards):\n",
        "        self.previous_hash = previous_hash\n",
        "        self.hash = ''\n",
        "        self.difficulty = difficulty\n",
        "        self.nonce = 0\n",
        "        self.timestamp = int(time.time())\n",
        "        self.transactions = []\n",
        "        self.miner = miner\n",
        "        self.miner_rewards = miner_rewards\n"
      ]
    },
    {
      "cell_type": "markdown",
      "source": [
        "# Blockchain\n",
        "* 難度調節區塊數(adjust_difficulty_blocks) \n",
        "* 目前難度(difficulty)\n",
        "* 出塊時間(block_time)\n",
        "* 挖礦獎勵(miner_rewards)\n",
        "* 區塊容量(block_limitation)\n",
        "* 區塊鏈(chain)\n",
        "* 等待中的交易(pending_pranscations)\n",
        "\n",
        "# transaction to string\n",
        "基本上就是把單一交易記錄轉換成字串\n",
        "會先轉成dict後再轉成string\n",
        "\n",
        "# get transactions string\n",
        "把block裡面所有交易記錄串接成單一字串\n",
        "\n",
        "# get hash\n",
        "透過sha1計算hash value\n",
        "(基本上 sha1 已經不可靠，但為了簡單示範故使用）"
      ],
      "metadata": {
        "id": "AKbh02AKF9sp"
      }
    },
    {
      "cell_type": "code",
      "source": [
        "import hashlib\n",
        "\n",
        "\n",
        "class BlockChain:\n",
        "    def __init__(self):\n",
        "        self.adjust_difficulty_blocks = 100\n",
        "        self.difficulty = 5\n",
        "        self.block_time = 15\n",
        "        self.miner_rewards = 50\n",
        "        self.block_limitation = 10\n",
        "        self.chain = []\n",
        "        self.pending_transactions = []\n",
        "\n",
        "    def transaction_to_string(self, transaction):\n",
        "        transaction_dict = {\n",
        "            'sender': str(transaction.sender),\n",
        "            'receiver': str(transaction.receiver),\n",
        "            'amounts': transaction.amounts,\n",
        "            'fee': transaction.fee,\n",
        "            'message': transaction.message\n",
        "        }\n",
        "        return str(transaction_dict)\n",
        "\n",
        "    def get_transactions_string(self, block):\n",
        "        transaction_str = ''\n",
        "        for transaction in block.transactions:\n",
        "            transaction_str += self.transaction_to_string(transaction)\n",
        "        return transaction_str\n",
        "\n",
        "    def get_hash(self, block, nonce):\n",
        "        s = hashlib.sha1()\n",
        "        s.update(\n",
        "            (\n",
        "                block.previous_hash\n",
        "                + str(block.timestamp)\n",
        "                + self.get_transactions_string(block)\n",
        "                + str(nonce)\n",
        "            ).encode(\"utf-8\")\n",
        "        )\n",
        "        h = s.hexdigest()\n",
        "        return h\n"
      ],
      "metadata": {
        "id": "GxsGhZ1OF7lN"
      },
      "execution_count": 4,
      "outputs": []
    }
  ]
}